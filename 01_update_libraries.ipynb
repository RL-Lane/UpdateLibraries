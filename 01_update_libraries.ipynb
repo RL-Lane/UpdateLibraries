{
 "cells": [
  {
   "cell_type": "code",
   "execution_count": 13,
   "id": "72406b88",
   "metadata": {},
   "outputs": [],
   "source": [
    "import csv\n",
    "import os\n",
    "\n",
    "def search_text_in_files(directory, text, extensions):\n",
    "    results = []\n",
    "    for root, dirs, files in os.walk(directory):\n",
    "        for file in files:\n",
    "            file_path = os.path.join(root, file)\n",
    "            file_extension = os.path.splitext(file)[1]\n",
    "            if file_extension in extensions:\n",
    "                with open(file_path, 'r', encoding='utf-8') as f:\n",
    "                    for line_num, line in enumerate(f, start=1):\n",
    "                        for t in text:\n",
    "                            if t in line:\n",
    "                                line_text = line.strip()\n",
    "                                result = (line_text, file_extension)\n",
    "                                results.append(result)\n",
    "    return results"
   ]
  },
  {
   "cell_type": "code",
   "execution_count": null,
   "id": "54da5d35",
   "metadata": {},
   "outputs": [],
   "source": [
    "# Provide the directory path where you want to start the search\n",
    "# Bootcamp folder:\n",
    "#directory_path = 'C:/xxx'  # Current directory\n",
    "\n",
    "# MSDS folder:\n",
    "directory_path = 'C:/xxx'  # Old directory\n",
    "search_text = ['library(', 'import ']\n",
    "allowed_extensions = ['.r','.R','.rmd','.RMD', '.ipynb', '.py']\n",
    "\n",
    "results = search_text_in_files(directory_path, search_text, allowed_extensions)\n",
    "\n",
    "# Save deduplicated results to a CSV file\n",
    "csv_file = 'search_results.csv'\n",
    "\n",
    "with open(csv_file, 'w', newline='', encoding='utf-8') as f:\n",
    "    writer = csv.writer(f)\n",
    "    writer.writerow(['Line Text', 'File Extension'])\n",
    "    writer.writerows(results)\n",
    "\n",
    "print(f'Search results saved to {csv_file}.')"
   ]
  },
  {
   "cell_type": "code",
   "execution_count": null,
   "id": "ff0a53d8",
   "metadata": {},
   "outputs": [],
   "source": [
    "\n",
    "\n",
    "import csv\n",
    "\n",
    "def read_csv_file(file_path):\n",
    "    data = []\n",
    "    with open(file_path, 'r', encoding='utf-8-sig') as file:\n",
    "        reader = csv.reader(file)\n",
    "        for row in reader:\n",
    "            data.append(row)\n",
    "    return data\n",
    "\n",
    "# Provide the file path of the CSV file\n",
    "csv_file_path = 'C:/xxx/py_libs.csv'\n",
    "\n",
    "# Read the CSV file into a list\n",
    "csv_data = read_csv_file(csv_file_path)\n",
    "\n",
    "# Print the contents of the list\n",
    "libraries = []\n",
    "for row in csv_data:\n",
    "    print(row[0])\n",
    "    libraries.append(row[0])\n"
   ]
  },
  {
   "cell_type": "code",
   "execution_count": null,
   "id": "e89f2a43",
   "metadata": {},
   "outputs": [],
   "source": [
    "import subprocess\n",
    "\n",
    "# List of libraries to check and upgrade\n",
    "# libraries = ['numpy', 'pandas', 'matplotlib']\n",
    "\n",
    "# Loop over the libraries and check if they are up-to-date\n",
    "for library in libraries:\n",
    "    try:\n",
    "        # Use pip to check if the library is up-to-date\n",
    "        result = subprocess.check_output(['pip', 'install', '--upgrade', library], stderr=subprocess.STDOUT)\n",
    "        print(f\"{library} is up-to-date.\")\n",
    "    except subprocess.CalledProcessError as e:\n",
    "        # If the library is not up-to-date, upgrade it\n",
    "        result = e.output.decode()\n",
    "        if 'Requirement already up-to-date' in result:\n",
    "            print(f\"{library} is up-to-date.\")\n",
    "        elif 'Successfully installed' in result:\n",
    "            print(f\"{library} has been upgraded.\")\n",
    "        else:\n",
    "            print(f\"Error upgrading {library}: {result}\")"
   ]
  }
 ],
 "metadata": {
  "kernelspec": {
   "display_name": "Python 3 (ipykernel)",
   "language": "python",
   "name": "python3"
  },
  "language_info": {
   "codemirror_mode": {
    "name": "ipython",
    "version": 3
   },
   "file_extension": ".py",
   "mimetype": "text/x-python",
   "name": "python",
   "nbconvert_exporter": "python",
   "pygments_lexer": "ipython3",
   "version": "3.8.12"
  }
 },
 "nbformat": 4,
 "nbformat_minor": 5
}
